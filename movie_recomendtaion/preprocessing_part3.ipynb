{
  "nbformat": 4,
  "nbformat_minor": 0,
  "metadata": {
    "colab": {
      "name": "preprocessing_part3",
      "provenance": [],
      "collapsed_sections": []
    },
    "kernelspec": {
      "name": "python3",
      "display_name": "Python 3"
    }
  },
  "cells": [
    {
      "cell_type": "code",
      "metadata": {
        "colab": {
          "base_uri": "https://localhost:8080/"
        },
        "id": "R3heLHCwO9G8",
        "outputId": "d42b5476-a770-4773-a472-1c36a0d8d2d0"
      },
      "source": [
        "from google.colab import drive\n",
        "drive.mount('/content/gdrive')"
      ],
      "execution_count": 33,
      "outputs": [
        {
          "output_type": "stream",
          "text": [
            "Drive already mounted at /content/gdrive; to attempt to forcibly remount, call drive.mount(\"/content/gdrive\", force_remount=True).\n"
          ],
          "name": "stdout"
        }
      ]
    },
    {
      "cell_type": "code",
      "metadata": {
        "id": "R11l9QFZPTPd"
      },
      "source": [
        "import numpy as np\n",
        "import pandas as pd"
      ],
      "execution_count": 34,
      "outputs": []
    },
    {
      "cell_type": "markdown",
      "metadata": {
        "id": "cQiGQC1xltEa"
      },
      "source": [
        "Loading dataset"
      ]
    },
    {
      "cell_type": "code",
      "metadata": {
        "id": "pl6PXacMPivh"
      },
      "source": [
        "df = pd.read_csv(\"/content/gdrive/MyDrive/college_project/2018_with_genres.csv\")"
      ],
      "execution_count": 35,
      "outputs": []
    },
    {
      "cell_type": "code",
      "metadata": {
        "colab": {
          "base_uri": "https://localhost:8080/",
          "height": 195
        },
        "id": "nDdhFk8hPpA6",
        "outputId": "55084e32-3f3d-46e4-9b0a-0750590137a0"
      },
      "source": [
        "df.head()"
      ],
      "execution_count": 36,
      "outputs": [
        {
          "output_type": "execute_result",
          "data": {
            "text/html": [
              "<div>\n",
              "<style scoped>\n",
              "    .dataframe tbody tr th:only-of-type {\n",
              "        vertical-align: middle;\n",
              "    }\n",
              "\n",
              "    .dataframe tbody tr th {\n",
              "        vertical-align: top;\n",
              "    }\n",
              "\n",
              "    .dataframe thead th {\n",
              "        text-align: right;\n",
              "    }\n",
              "</style>\n",
              "<table border=\"1\" class=\"dataframe\">\n",
              "  <thead>\n",
              "    <tr style=\"text-align: right;\">\n",
              "      <th></th>\n",
              "      <th>Unnamed: 0</th>\n",
              "      <th>Title</th>\n",
              "      <th>Production company</th>\n",
              "      <th>Cast and crew</th>\n",
              "      <th>genres</th>\n",
              "    </tr>\n",
              "  </thead>\n",
              "  <tbody>\n",
              "    <tr>\n",
              "      <th>0</th>\n",
              "      <td>0</td>\n",
              "      <td>Insidious: The Last Key</td>\n",
              "      <td>Universal Pictures / Blumhouse Productions / S...</td>\n",
              "      <td>Adam Robitel (director); Leigh Whannell (scree...</td>\n",
              "      <td>Mystery Horror Thriller</td>\n",
              "    </tr>\n",
              "    <tr>\n",
              "      <th>1</th>\n",
              "      <td>1</td>\n",
              "      <td>The Strange Ones</td>\n",
              "      <td>Vertical Entertainment</td>\n",
              "      <td>Lauren Wolkstein (director); Christopher Radcl...</td>\n",
              "      <td>Thriller Drama</td>\n",
              "    </tr>\n",
              "    <tr>\n",
              "      <th>2</th>\n",
              "      <td>2</td>\n",
              "      <td>Stratton</td>\n",
              "      <td>Momentum Pictures</td>\n",
              "      <td>Simon West (director); Duncan Falconer, Warren...</td>\n",
              "      <td>Action Thriller</td>\n",
              "    </tr>\n",
              "    <tr>\n",
              "      <th>3</th>\n",
              "      <td>3</td>\n",
              "      <td>Sweet Country</td>\n",
              "      <td>Samuel Goldwyn Films</td>\n",
              "      <td>Warwick Thornton (director); David Tranter, St...</td>\n",
              "      <td>Drama History Western</td>\n",
              "    </tr>\n",
              "    <tr>\n",
              "      <th>4</th>\n",
              "      <td>4</td>\n",
              "      <td>The Commuter</td>\n",
              "      <td>Lionsgate / StudioCanal / The Picture Company</td>\n",
              "      <td>Jaume Collet-Serra (director); Byron Willinger...</td>\n",
              "      <td>Action Thriller</td>\n",
              "    </tr>\n",
              "  </tbody>\n",
              "</table>\n",
              "</div>"
            ],
            "text/plain": [
              "   Unnamed: 0  ...                   genres\n",
              "0           0  ...  Mystery Horror Thriller\n",
              "1           1  ...           Thriller Drama\n",
              "2           2  ...          Action Thriller\n",
              "3           3  ...    Drama History Western\n",
              "4           4  ...          Action Thriller\n",
              "\n",
              "[5 rows x 5 columns]"
            ]
          },
          "metadata": {
            "tags": []
          },
          "execution_count": 36
        }
      ]
    },
    {
      "cell_type": "code",
      "metadata": {
        "id": "esrURvJaPrMD"
      },
      "source": [
        "df['Title'] = df['Title'].str.replace(':',' ')"
      ],
      "execution_count": 37,
      "outputs": []
    },
    {
      "cell_type": "code",
      "metadata": {
        "colab": {
          "base_uri": "https://localhost:8080/",
          "height": 195
        },
        "id": "R8wR-UOiQEqT",
        "outputId": "7a55badc-0bd9-4038-b116-4f74696b2feb"
      },
      "source": [
        "df.head()"
      ],
      "execution_count": 38,
      "outputs": [
        {
          "output_type": "execute_result",
          "data": {
            "text/html": [
              "<div>\n",
              "<style scoped>\n",
              "    .dataframe tbody tr th:only-of-type {\n",
              "        vertical-align: middle;\n",
              "    }\n",
              "\n",
              "    .dataframe tbody tr th {\n",
              "        vertical-align: top;\n",
              "    }\n",
              "\n",
              "    .dataframe thead th {\n",
              "        text-align: right;\n",
              "    }\n",
              "</style>\n",
              "<table border=\"1\" class=\"dataframe\">\n",
              "  <thead>\n",
              "    <tr style=\"text-align: right;\">\n",
              "      <th></th>\n",
              "      <th>Unnamed: 0</th>\n",
              "      <th>Title</th>\n",
              "      <th>Production company</th>\n",
              "      <th>Cast and crew</th>\n",
              "      <th>genres</th>\n",
              "    </tr>\n",
              "  </thead>\n",
              "  <tbody>\n",
              "    <tr>\n",
              "      <th>0</th>\n",
              "      <td>0</td>\n",
              "      <td>Insidious  The Last Key</td>\n",
              "      <td>Universal Pictures / Blumhouse Productions / S...</td>\n",
              "      <td>Adam Robitel (director); Leigh Whannell (scree...</td>\n",
              "      <td>Mystery Horror Thriller</td>\n",
              "    </tr>\n",
              "    <tr>\n",
              "      <th>1</th>\n",
              "      <td>1</td>\n",
              "      <td>The Strange Ones</td>\n",
              "      <td>Vertical Entertainment</td>\n",
              "      <td>Lauren Wolkstein (director); Christopher Radcl...</td>\n",
              "      <td>Thriller Drama</td>\n",
              "    </tr>\n",
              "    <tr>\n",
              "      <th>2</th>\n",
              "      <td>2</td>\n",
              "      <td>Stratton</td>\n",
              "      <td>Momentum Pictures</td>\n",
              "      <td>Simon West (director); Duncan Falconer, Warren...</td>\n",
              "      <td>Action Thriller</td>\n",
              "    </tr>\n",
              "    <tr>\n",
              "      <th>3</th>\n",
              "      <td>3</td>\n",
              "      <td>Sweet Country</td>\n",
              "      <td>Samuel Goldwyn Films</td>\n",
              "      <td>Warwick Thornton (director); David Tranter, St...</td>\n",
              "      <td>Drama History Western</td>\n",
              "    </tr>\n",
              "    <tr>\n",
              "      <th>4</th>\n",
              "      <td>4</td>\n",
              "      <td>The Commuter</td>\n",
              "      <td>Lionsgate / StudioCanal / The Picture Company</td>\n",
              "      <td>Jaume Collet-Serra (director); Byron Willinger...</td>\n",
              "      <td>Action Thriller</td>\n",
              "    </tr>\n",
              "  </tbody>\n",
              "</table>\n",
              "</div>"
            ],
            "text/plain": [
              "   Unnamed: 0  ...                   genres\n",
              "0           0  ...  Mystery Horror Thriller\n",
              "1           1  ...           Thriller Drama\n",
              "2           2  ...          Action Thriller\n",
              "3           3  ...    Drama History Western\n",
              "4           4  ...          Action Thriller\n",
              "\n",
              "[5 rows x 5 columns]"
            ]
          },
          "metadata": {
            "tags": []
          },
          "execution_count": 38
        }
      ]
    },
    {
      "cell_type": "code",
      "metadata": {
        "colab": {
          "base_uri": "https://localhost:8080/",
          "height": 35
        },
        "id": "iSI0Wuf5QFvJ",
        "outputId": "79b90a30-9588-42e4-f2df-9bc012baa618"
      },
      "source": [
        "df['Cast and crew'][0]"
      ],
      "execution_count": 39,
      "outputs": [
        {
          "output_type": "execute_result",
          "data": {
            "application/vnd.google.colaboratory.intrinsic+json": {
              "type": "string"
            },
            "text/plain": [
              "'Adam Robitel (director); Leigh Whannell (screenplay); Lin Shaye, Angus Sampson, Leigh Whannell, Spencer Locke, Caitlin Gerard, Kirk Acevedo, Bruce Davison'"
            ]
          },
          "metadata": {
            "tags": []
          },
          "execution_count": 39
        }
      ]
    },
    {
      "cell_type": "code",
      "metadata": {
        "id": "mG7rzdAKQPd1"
      },
      "source": [
        "df['Cast and crew'] = df['Cast and crew'].str.replace(',' , ';')"
      ],
      "execution_count": 40,
      "outputs": []
    },
    {
      "cell_type": "code",
      "metadata": {
        "id": "-eEqbo5hg4Lm"
      },
      "source": [
        "def canvert(data):\n",
        "  data = data.split(\";\")\n",
        "  return data[0]"
      ],
      "execution_count": 41,
      "outputs": []
    },
    {
      "cell_type": "code",
      "metadata": {
        "id": "UZHJkQSffix2"
      },
      "source": [
        "actual_data = df['Cast and crew']\n",
        "df['director_name'] = actual_data.map(canvert)"
      ],
      "execution_count": 42,
      "outputs": []
    },
    {
      "cell_type": "code",
      "metadata": {
        "id": "wbbelw0lhEDs"
      },
      "source": [
        "df['director_name'] = df['director_name'].str.replace(r\"(director)\" , '')\n",
        "df['director_name'] = df['director_name'].str.replace(\"(\" , '')\n",
        "df['director_name'] = df['director_name'].str.replace(\")\" , '')"
      ],
      "execution_count": 43,
      "outputs": []
    },
    {
      "cell_type": "code",
      "metadata": {
        "colab": {
          "base_uri": "https://localhost:8080/",
          "height": 195
        },
        "id": "VpVMAxz9hFX9",
        "outputId": "8b9108a2-16e2-4415-db7c-ecfa3b344853"
      },
      "source": [
        "df.head()"
      ],
      "execution_count": 44,
      "outputs": [
        {
          "output_type": "execute_result",
          "data": {
            "text/html": [
              "<div>\n",
              "<style scoped>\n",
              "    .dataframe tbody tr th:only-of-type {\n",
              "        vertical-align: middle;\n",
              "    }\n",
              "\n",
              "    .dataframe tbody tr th {\n",
              "        vertical-align: top;\n",
              "    }\n",
              "\n",
              "    .dataframe thead th {\n",
              "        text-align: right;\n",
              "    }\n",
              "</style>\n",
              "<table border=\"1\" class=\"dataframe\">\n",
              "  <thead>\n",
              "    <tr style=\"text-align: right;\">\n",
              "      <th></th>\n",
              "      <th>Unnamed: 0</th>\n",
              "      <th>Title</th>\n",
              "      <th>Production company</th>\n",
              "      <th>Cast and crew</th>\n",
              "      <th>genres</th>\n",
              "      <th>director_name</th>\n",
              "    </tr>\n",
              "  </thead>\n",
              "  <tbody>\n",
              "    <tr>\n",
              "      <th>0</th>\n",
              "      <td>0</td>\n",
              "      <td>Insidious  The Last Key</td>\n",
              "      <td>Universal Pictures / Blumhouse Productions / S...</td>\n",
              "      <td>Adam Robitel (director); Leigh Whannell (scree...</td>\n",
              "      <td>Mystery Horror Thriller</td>\n",
              "      <td>Adam Robitel</td>\n",
              "    </tr>\n",
              "    <tr>\n",
              "      <th>1</th>\n",
              "      <td>1</td>\n",
              "      <td>The Strange Ones</td>\n",
              "      <td>Vertical Entertainment</td>\n",
              "      <td>Lauren Wolkstein (director); Christopher Radcl...</td>\n",
              "      <td>Thriller Drama</td>\n",
              "      <td>Lauren Wolkstein</td>\n",
              "    </tr>\n",
              "    <tr>\n",
              "      <th>2</th>\n",
              "      <td>2</td>\n",
              "      <td>Stratton</td>\n",
              "      <td>Momentum Pictures</td>\n",
              "      <td>Simon West (director); Duncan Falconer; Warren...</td>\n",
              "      <td>Action Thriller</td>\n",
              "      <td>Simon West</td>\n",
              "    </tr>\n",
              "    <tr>\n",
              "      <th>3</th>\n",
              "      <td>3</td>\n",
              "      <td>Sweet Country</td>\n",
              "      <td>Samuel Goldwyn Films</td>\n",
              "      <td>Warwick Thornton (director); David Tranter; St...</td>\n",
              "      <td>Drama History Western</td>\n",
              "      <td>Warwick Thornton</td>\n",
              "    </tr>\n",
              "    <tr>\n",
              "      <th>4</th>\n",
              "      <td>4</td>\n",
              "      <td>The Commuter</td>\n",
              "      <td>Lionsgate / StudioCanal / The Picture Company</td>\n",
              "      <td>Jaume Collet-Serra (director); Byron Willinger...</td>\n",
              "      <td>Action Thriller</td>\n",
              "      <td>Jaume Collet-Serra</td>\n",
              "    </tr>\n",
              "  </tbody>\n",
              "</table>\n",
              "</div>"
            ],
            "text/plain": [
              "   Unnamed: 0  ...        director_name\n",
              "0           0  ...        Adam Robitel \n",
              "1           1  ...    Lauren Wolkstein \n",
              "2           2  ...          Simon West \n",
              "3           3  ...    Warwick Thornton \n",
              "4           4  ...  Jaume Collet-Serra \n",
              "\n",
              "[5 rows x 6 columns]"
            ]
          },
          "metadata": {
            "tags": []
          },
          "execution_count": 44
        }
      ]
    },
    {
      "cell_type": "code",
      "metadata": {
        "id": "a0h_5ItEhfJc"
      },
      "source": [
        "def canvert(data):\n",
        "  data = data.split(\";\")\n",
        "  try:\n",
        "    return data[2]\n",
        "  except:\n",
        "    return np.nan"
      ],
      "execution_count": 45,
      "outputs": []
    },
    {
      "cell_type": "code",
      "metadata": {
        "id": "uocps-H1iK3w"
      },
      "source": [
        "actual_data = df['Cast and crew']\n",
        "df['actor_1_name'] = actual_data.map(canvert)"
      ],
      "execution_count": 46,
      "outputs": []
    },
    {
      "cell_type": "code",
      "metadata": {
        "colab": {
          "base_uri": "https://localhost:8080/",
          "height": 262
        },
        "id": "os62V0GTiPFp",
        "outputId": "61d5a979-1cef-4aad-f704-f40ef6cb467a"
      },
      "source": [
        "df.head()"
      ],
      "execution_count": 47,
      "outputs": [
        {
          "output_type": "execute_result",
          "data": {
            "text/html": [
              "<div>\n",
              "<style scoped>\n",
              "    .dataframe tbody tr th:only-of-type {\n",
              "        vertical-align: middle;\n",
              "    }\n",
              "\n",
              "    .dataframe tbody tr th {\n",
              "        vertical-align: top;\n",
              "    }\n",
              "\n",
              "    .dataframe thead th {\n",
              "        text-align: right;\n",
              "    }\n",
              "</style>\n",
              "<table border=\"1\" class=\"dataframe\">\n",
              "  <thead>\n",
              "    <tr style=\"text-align: right;\">\n",
              "      <th></th>\n",
              "      <th>Unnamed: 0</th>\n",
              "      <th>Title</th>\n",
              "      <th>Production company</th>\n",
              "      <th>Cast and crew</th>\n",
              "      <th>genres</th>\n",
              "      <th>director_name</th>\n",
              "      <th>actor_1_name</th>\n",
              "    </tr>\n",
              "  </thead>\n",
              "  <tbody>\n",
              "    <tr>\n",
              "      <th>0</th>\n",
              "      <td>0</td>\n",
              "      <td>Insidious  The Last Key</td>\n",
              "      <td>Universal Pictures / Blumhouse Productions / S...</td>\n",
              "      <td>Adam Robitel (director); Leigh Whannell (scree...</td>\n",
              "      <td>Mystery Horror Thriller</td>\n",
              "      <td>Adam Robitel</td>\n",
              "      <td>Lin Shaye</td>\n",
              "    </tr>\n",
              "    <tr>\n",
              "      <th>1</th>\n",
              "      <td>1</td>\n",
              "      <td>The Strange Ones</td>\n",
              "      <td>Vertical Entertainment</td>\n",
              "      <td>Lauren Wolkstein (director); Christopher Radcl...</td>\n",
              "      <td>Thriller Drama</td>\n",
              "      <td>Lauren Wolkstein</td>\n",
              "      <td>Alex Pettyfer</td>\n",
              "    </tr>\n",
              "    <tr>\n",
              "      <th>2</th>\n",
              "      <td>2</td>\n",
              "      <td>Stratton</td>\n",
              "      <td>Momentum Pictures</td>\n",
              "      <td>Simon West (director); Duncan Falconer; Warren...</td>\n",
              "      <td>Action Thriller</td>\n",
              "      <td>Simon West</td>\n",
              "      <td>Warren Davis II (screenplay)</td>\n",
              "    </tr>\n",
              "    <tr>\n",
              "      <th>3</th>\n",
              "      <td>3</td>\n",
              "      <td>Sweet Country</td>\n",
              "      <td>Samuel Goldwyn Films</td>\n",
              "      <td>Warwick Thornton (director); David Tranter; St...</td>\n",
              "      <td>Drama History Western</td>\n",
              "      <td>Warwick Thornton</td>\n",
              "      <td>Steven McGregor (screenplay)</td>\n",
              "    </tr>\n",
              "    <tr>\n",
              "      <th>4</th>\n",
              "      <td>4</td>\n",
              "      <td>The Commuter</td>\n",
              "      <td>Lionsgate / StudioCanal / The Picture Company</td>\n",
              "      <td>Jaume Collet-Serra (director); Byron Willinger...</td>\n",
              "      <td>Action Thriller</td>\n",
              "      <td>Jaume Collet-Serra</td>\n",
              "      <td>Philip de Blasi (screenplay)</td>\n",
              "    </tr>\n",
              "  </tbody>\n",
              "</table>\n",
              "</div>"
            ],
            "text/plain": [
              "   Unnamed: 0  ...                   actor_1_name\n",
              "0           0  ...                      Lin Shaye\n",
              "1           1  ...                  Alex Pettyfer\n",
              "2           2  ...   Warren Davis II (screenplay)\n",
              "3           3  ...   Steven McGregor (screenplay)\n",
              "4           4  ...   Philip de Blasi (screenplay)\n",
              "\n",
              "[5 rows x 7 columns]"
            ]
          },
          "metadata": {
            "tags": []
          },
          "execution_count": 47
        }
      ]
    },
    {
      "cell_type": "code",
      "metadata": {
        "id": "T74QiKFYjr7U"
      },
      "source": [
        "df['actor_1_name'] = df['actor_1_name'].str.replace(r\"(screenplay)\" , '')\n",
        "df['actor_1_name'] = df['actor_1_name'].str.replace(\"(\" , '')\n",
        "df['actor_1_name'] = df['actor_1_name'].str.replace(\")\" , '')"
      ],
      "execution_count": 48,
      "outputs": []
    },
    {
      "cell_type": "code",
      "metadata": {
        "colab": {
          "base_uri": "https://localhost:8080/",
          "height": 195
        },
        "id": "wrjqDnelj6tA",
        "outputId": "6e349aa4-310b-4cd2-e76e-6ba4a68a5177"
      },
      "source": [
        "df.head()"
      ],
      "execution_count": 49,
      "outputs": [
        {
          "output_type": "execute_result",
          "data": {
            "text/html": [
              "<div>\n",
              "<style scoped>\n",
              "    .dataframe tbody tr th:only-of-type {\n",
              "        vertical-align: middle;\n",
              "    }\n",
              "\n",
              "    .dataframe tbody tr th {\n",
              "        vertical-align: top;\n",
              "    }\n",
              "\n",
              "    .dataframe thead th {\n",
              "        text-align: right;\n",
              "    }\n",
              "</style>\n",
              "<table border=\"1\" class=\"dataframe\">\n",
              "  <thead>\n",
              "    <tr style=\"text-align: right;\">\n",
              "      <th></th>\n",
              "      <th>Unnamed: 0</th>\n",
              "      <th>Title</th>\n",
              "      <th>Production company</th>\n",
              "      <th>Cast and crew</th>\n",
              "      <th>genres</th>\n",
              "      <th>director_name</th>\n",
              "      <th>actor_1_name</th>\n",
              "    </tr>\n",
              "  </thead>\n",
              "  <tbody>\n",
              "    <tr>\n",
              "      <th>0</th>\n",
              "      <td>0</td>\n",
              "      <td>Insidious  The Last Key</td>\n",
              "      <td>Universal Pictures / Blumhouse Productions / S...</td>\n",
              "      <td>Adam Robitel (director); Leigh Whannell (scree...</td>\n",
              "      <td>Mystery Horror Thriller</td>\n",
              "      <td>Adam Robitel</td>\n",
              "      <td>Lin Shaye</td>\n",
              "    </tr>\n",
              "    <tr>\n",
              "      <th>1</th>\n",
              "      <td>1</td>\n",
              "      <td>The Strange Ones</td>\n",
              "      <td>Vertical Entertainment</td>\n",
              "      <td>Lauren Wolkstein (director); Christopher Radcl...</td>\n",
              "      <td>Thriller Drama</td>\n",
              "      <td>Lauren Wolkstein</td>\n",
              "      <td>Alex Pettyfer</td>\n",
              "    </tr>\n",
              "    <tr>\n",
              "      <th>2</th>\n",
              "      <td>2</td>\n",
              "      <td>Stratton</td>\n",
              "      <td>Momentum Pictures</td>\n",
              "      <td>Simon West (director); Duncan Falconer; Warren...</td>\n",
              "      <td>Action Thriller</td>\n",
              "      <td>Simon West</td>\n",
              "      <td>Warren Davis II</td>\n",
              "    </tr>\n",
              "    <tr>\n",
              "      <th>3</th>\n",
              "      <td>3</td>\n",
              "      <td>Sweet Country</td>\n",
              "      <td>Samuel Goldwyn Films</td>\n",
              "      <td>Warwick Thornton (director); David Tranter; St...</td>\n",
              "      <td>Drama History Western</td>\n",
              "      <td>Warwick Thornton</td>\n",
              "      <td>Steven McGregor</td>\n",
              "    </tr>\n",
              "    <tr>\n",
              "      <th>4</th>\n",
              "      <td>4</td>\n",
              "      <td>The Commuter</td>\n",
              "      <td>Lionsgate / StudioCanal / The Picture Company</td>\n",
              "      <td>Jaume Collet-Serra (director); Byron Willinger...</td>\n",
              "      <td>Action Thriller</td>\n",
              "      <td>Jaume Collet-Serra</td>\n",
              "      <td>Philip de Blasi</td>\n",
              "    </tr>\n",
              "  </tbody>\n",
              "</table>\n",
              "</div>"
            ],
            "text/plain": [
              "   Unnamed: 0                    Title  ...        director_name       actor_1_name\n",
              "0           0  Insidious  The Last Key  ...        Adam Robitel           Lin Shaye\n",
              "1           1         The Strange Ones  ...    Lauren Wolkstein       Alex Pettyfer\n",
              "2           2                 Stratton  ...          Simon West    Warren Davis II \n",
              "3           3            Sweet Country  ...    Warwick Thornton    Steven McGregor \n",
              "4           4             The Commuter  ...  Jaume Collet-Serra    Philip de Blasi \n",
              "\n",
              "[5 rows x 7 columns]"
            ]
          },
          "metadata": {
            "tags": []
          },
          "execution_count": 49
        }
      ]
    },
    {
      "cell_type": "code",
      "metadata": {
        "id": "Uqz_MqDYj74c"
      },
      "source": [
        "def canvert(data):\n",
        "  data = data.split(\";\")\n",
        "  try:\n",
        "    return data[3]\n",
        "  except:\n",
        "    return np.nan"
      ],
      "execution_count": 50,
      "outputs": []
    },
    {
      "cell_type": "code",
      "metadata": {
        "id": "UOJ4pN_YkCjp"
      },
      "source": [
        "actual_data = df['Cast and crew']\n",
        "df['actor_2_name'] = actual_data.map(canvert)"
      ],
      "execution_count": 51,
      "outputs": []
    },
    {
      "cell_type": "code",
      "metadata": {
        "colab": {
          "base_uri": "https://localhost:8080/",
          "height": 296
        },
        "id": "0G4AHYAMkHvL",
        "outputId": "2705725d-2f43-41fe-98ad-88c4553fb700"
      },
      "source": [
        "df.head()"
      ],
      "execution_count": 52,
      "outputs": [
        {
          "output_type": "execute_result",
          "data": {
            "text/html": [
              "<div>\n",
              "<style scoped>\n",
              "    .dataframe tbody tr th:only-of-type {\n",
              "        vertical-align: middle;\n",
              "    }\n",
              "\n",
              "    .dataframe tbody tr th {\n",
              "        vertical-align: top;\n",
              "    }\n",
              "\n",
              "    .dataframe thead th {\n",
              "        text-align: right;\n",
              "    }\n",
              "</style>\n",
              "<table border=\"1\" class=\"dataframe\">\n",
              "  <thead>\n",
              "    <tr style=\"text-align: right;\">\n",
              "      <th></th>\n",
              "      <th>Unnamed: 0</th>\n",
              "      <th>Title</th>\n",
              "      <th>Production company</th>\n",
              "      <th>Cast and crew</th>\n",
              "      <th>genres</th>\n",
              "      <th>director_name</th>\n",
              "      <th>actor_1_name</th>\n",
              "      <th>actor_2_name</th>\n",
              "    </tr>\n",
              "  </thead>\n",
              "  <tbody>\n",
              "    <tr>\n",
              "      <th>0</th>\n",
              "      <td>0</td>\n",
              "      <td>Insidious  The Last Key</td>\n",
              "      <td>Universal Pictures / Blumhouse Productions / S...</td>\n",
              "      <td>Adam Robitel (director); Leigh Whannell (scree...</td>\n",
              "      <td>Mystery Horror Thriller</td>\n",
              "      <td>Adam Robitel</td>\n",
              "      <td>Lin Shaye</td>\n",
              "      <td>Angus Sampson</td>\n",
              "    </tr>\n",
              "    <tr>\n",
              "      <th>1</th>\n",
              "      <td>1</td>\n",
              "      <td>The Strange Ones</td>\n",
              "      <td>Vertical Entertainment</td>\n",
              "      <td>Lauren Wolkstein (director); Christopher Radcl...</td>\n",
              "      <td>Thriller Drama</td>\n",
              "      <td>Lauren Wolkstein</td>\n",
              "      <td>Alex Pettyfer</td>\n",
              "      <td>James Freedson-Jackson</td>\n",
              "    </tr>\n",
              "    <tr>\n",
              "      <th>2</th>\n",
              "      <td>2</td>\n",
              "      <td>Stratton</td>\n",
              "      <td>Momentum Pictures</td>\n",
              "      <td>Simon West (director); Duncan Falconer; Warren...</td>\n",
              "      <td>Action Thriller</td>\n",
              "      <td>Simon West</td>\n",
              "      <td>Warren Davis II</td>\n",
              "      <td>Dominic Cooper</td>\n",
              "    </tr>\n",
              "    <tr>\n",
              "      <th>3</th>\n",
              "      <td>3</td>\n",
              "      <td>Sweet Country</td>\n",
              "      <td>Samuel Goldwyn Films</td>\n",
              "      <td>Warwick Thornton (director); David Tranter; St...</td>\n",
              "      <td>Drama History Western</td>\n",
              "      <td>Warwick Thornton</td>\n",
              "      <td>Steven McGregor</td>\n",
              "      <td>Bryan Brown</td>\n",
              "    </tr>\n",
              "    <tr>\n",
              "      <th>4</th>\n",
              "      <td>4</td>\n",
              "      <td>The Commuter</td>\n",
              "      <td>Lionsgate / StudioCanal / The Picture Company</td>\n",
              "      <td>Jaume Collet-Serra (director); Byron Willinger...</td>\n",
              "      <td>Action Thriller</td>\n",
              "      <td>Jaume Collet-Serra</td>\n",
              "      <td>Philip de Blasi</td>\n",
              "      <td>Liam Neeson</td>\n",
              "    </tr>\n",
              "  </tbody>\n",
              "</table>\n",
              "</div>"
            ],
            "text/plain": [
              "   Unnamed: 0  ...             actor_2_name\n",
              "0           0  ...            Angus Sampson\n",
              "1           1  ...   James Freedson-Jackson\n",
              "2           2  ...           Dominic Cooper\n",
              "3           3  ...              Bryan Brown\n",
              "4           4  ...              Liam Neeson\n",
              "\n",
              "[5 rows x 8 columns]"
            ]
          },
          "metadata": {
            "tags": []
          },
          "execution_count": 52
        }
      ]
    },
    {
      "cell_type": "code",
      "metadata": {
        "id": "a4LpR1GYkIwv"
      },
      "source": [
        "def canvert(data):\n",
        "  data = data.split(\";\")\n",
        "  try:\n",
        "    return data[4]\n",
        "  except:\n",
        "    return np.nan"
      ],
      "execution_count": 53,
      "outputs": []
    },
    {
      "cell_type": "code",
      "metadata": {
        "id": "9Q-kZad4kPpj"
      },
      "source": [
        "actual_data = df['Cast and crew']\n",
        "df['actor_3_name'] = actual_data.map(canvert)"
      ],
      "execution_count": 54,
      "outputs": []
    },
    {
      "cell_type": "code",
      "metadata": {
        "colab": {
          "base_uri": "https://localhost:8080/",
          "height": 296
        },
        "id": "shesZBukkTTs",
        "outputId": "643709dc-aed0-4123-b756-b5fdcce1e4c8"
      },
      "source": [
        "df.head()"
      ],
      "execution_count": 55,
      "outputs": [
        {
          "output_type": "execute_result",
          "data": {
            "text/html": [
              "<div>\n",
              "<style scoped>\n",
              "    .dataframe tbody tr th:only-of-type {\n",
              "        vertical-align: middle;\n",
              "    }\n",
              "\n",
              "    .dataframe tbody tr th {\n",
              "        vertical-align: top;\n",
              "    }\n",
              "\n",
              "    .dataframe thead th {\n",
              "        text-align: right;\n",
              "    }\n",
              "</style>\n",
              "<table border=\"1\" class=\"dataframe\">\n",
              "  <thead>\n",
              "    <tr style=\"text-align: right;\">\n",
              "      <th></th>\n",
              "      <th>Unnamed: 0</th>\n",
              "      <th>Title</th>\n",
              "      <th>Production company</th>\n",
              "      <th>Cast and crew</th>\n",
              "      <th>genres</th>\n",
              "      <th>director_name</th>\n",
              "      <th>actor_1_name</th>\n",
              "      <th>actor_2_name</th>\n",
              "      <th>actor_3_name</th>\n",
              "    </tr>\n",
              "  </thead>\n",
              "  <tbody>\n",
              "    <tr>\n",
              "      <th>0</th>\n",
              "      <td>0</td>\n",
              "      <td>Insidious  The Last Key</td>\n",
              "      <td>Universal Pictures / Blumhouse Productions / S...</td>\n",
              "      <td>Adam Robitel (director); Leigh Whannell (scree...</td>\n",
              "      <td>Mystery Horror Thriller</td>\n",
              "      <td>Adam Robitel</td>\n",
              "      <td>Lin Shaye</td>\n",
              "      <td>Angus Sampson</td>\n",
              "      <td>Leigh Whannell</td>\n",
              "    </tr>\n",
              "    <tr>\n",
              "      <th>1</th>\n",
              "      <td>1</td>\n",
              "      <td>The Strange Ones</td>\n",
              "      <td>Vertical Entertainment</td>\n",
              "      <td>Lauren Wolkstein (director); Christopher Radcl...</td>\n",
              "      <td>Thriller Drama</td>\n",
              "      <td>Lauren Wolkstein</td>\n",
              "      <td>Alex Pettyfer</td>\n",
              "      <td>James Freedson-Jackson</td>\n",
              "      <td>Emily Althaus</td>\n",
              "    </tr>\n",
              "    <tr>\n",
              "      <th>2</th>\n",
              "      <td>2</td>\n",
              "      <td>Stratton</td>\n",
              "      <td>Momentum Pictures</td>\n",
              "      <td>Simon West (director); Duncan Falconer; Warren...</td>\n",
              "      <td>Action Thriller</td>\n",
              "      <td>Simon West</td>\n",
              "      <td>Warren Davis II</td>\n",
              "      <td>Dominic Cooper</td>\n",
              "      <td>Austin Stowell</td>\n",
              "    </tr>\n",
              "    <tr>\n",
              "      <th>3</th>\n",
              "      <td>3</td>\n",
              "      <td>Sweet Country</td>\n",
              "      <td>Samuel Goldwyn Films</td>\n",
              "      <td>Warwick Thornton (director); David Tranter; St...</td>\n",
              "      <td>Drama History Western</td>\n",
              "      <td>Warwick Thornton</td>\n",
              "      <td>Steven McGregor</td>\n",
              "      <td>Bryan Brown</td>\n",
              "      <td>Sam Neill</td>\n",
              "    </tr>\n",
              "    <tr>\n",
              "      <th>4</th>\n",
              "      <td>4</td>\n",
              "      <td>The Commuter</td>\n",
              "      <td>Lionsgate / StudioCanal / The Picture Company</td>\n",
              "      <td>Jaume Collet-Serra (director); Byron Willinger...</td>\n",
              "      <td>Action Thriller</td>\n",
              "      <td>Jaume Collet-Serra</td>\n",
              "      <td>Philip de Blasi</td>\n",
              "      <td>Liam Neeson</td>\n",
              "      <td>Vera Farmiga</td>\n",
              "    </tr>\n",
              "  </tbody>\n",
              "</table>\n",
              "</div>"
            ],
            "text/plain": [
              "   Unnamed: 0  ...     actor_3_name\n",
              "0           0  ...   Leigh Whannell\n",
              "1           1  ...    Emily Althaus\n",
              "2           2  ...   Austin Stowell\n",
              "3           3  ...        Sam Neill\n",
              "4           4  ...     Vera Farmiga\n",
              "\n",
              "[5 rows x 9 columns]"
            ]
          },
          "metadata": {
            "tags": []
          },
          "execution_count": 55
        }
      ]
    },
    {
      "cell_type": "code",
      "metadata": {
        "id": "4rwZrB4_kUMr"
      },
      "source": [
        "df = df.loc[:,['director_name','actor_1_name','actor_2_name','actor_3_name','genres','Title']]"
      ],
      "execution_count": 56,
      "outputs": []
    },
    {
      "cell_type": "code",
      "metadata": {
        "colab": {
          "base_uri": "https://localhost:8080/",
          "height": 195
        },
        "id": "zA_XaneWkjQf",
        "outputId": "bdfb1213-3217-4d10-bc23-ab56fb796e5c"
      },
      "source": [
        "df.head()"
      ],
      "execution_count": 57,
      "outputs": [
        {
          "output_type": "execute_result",
          "data": {
            "text/html": [
              "<div>\n",
              "<style scoped>\n",
              "    .dataframe tbody tr th:only-of-type {\n",
              "        vertical-align: middle;\n",
              "    }\n",
              "\n",
              "    .dataframe tbody tr th {\n",
              "        vertical-align: top;\n",
              "    }\n",
              "\n",
              "    .dataframe thead th {\n",
              "        text-align: right;\n",
              "    }\n",
              "</style>\n",
              "<table border=\"1\" class=\"dataframe\">\n",
              "  <thead>\n",
              "    <tr style=\"text-align: right;\">\n",
              "      <th></th>\n",
              "      <th>director_name</th>\n",
              "      <th>actor_1_name</th>\n",
              "      <th>actor_2_name</th>\n",
              "      <th>actor_3_name</th>\n",
              "      <th>genres</th>\n",
              "      <th>Title</th>\n",
              "    </tr>\n",
              "  </thead>\n",
              "  <tbody>\n",
              "    <tr>\n",
              "      <th>0</th>\n",
              "      <td>Adam Robitel</td>\n",
              "      <td>Lin Shaye</td>\n",
              "      <td>Angus Sampson</td>\n",
              "      <td>Leigh Whannell</td>\n",
              "      <td>Mystery Horror Thriller</td>\n",
              "      <td>Insidious  The Last Key</td>\n",
              "    </tr>\n",
              "    <tr>\n",
              "      <th>1</th>\n",
              "      <td>Lauren Wolkstein</td>\n",
              "      <td>Alex Pettyfer</td>\n",
              "      <td>James Freedson-Jackson</td>\n",
              "      <td>Emily Althaus</td>\n",
              "      <td>Thriller Drama</td>\n",
              "      <td>The Strange Ones</td>\n",
              "    </tr>\n",
              "    <tr>\n",
              "      <th>2</th>\n",
              "      <td>Simon West</td>\n",
              "      <td>Warren Davis II</td>\n",
              "      <td>Dominic Cooper</td>\n",
              "      <td>Austin Stowell</td>\n",
              "      <td>Action Thriller</td>\n",
              "      <td>Stratton</td>\n",
              "    </tr>\n",
              "    <tr>\n",
              "      <th>3</th>\n",
              "      <td>Warwick Thornton</td>\n",
              "      <td>Steven McGregor</td>\n",
              "      <td>Bryan Brown</td>\n",
              "      <td>Sam Neill</td>\n",
              "      <td>Drama History Western</td>\n",
              "      <td>Sweet Country</td>\n",
              "    </tr>\n",
              "    <tr>\n",
              "      <th>4</th>\n",
              "      <td>Jaume Collet-Serra</td>\n",
              "      <td>Philip de Blasi</td>\n",
              "      <td>Liam Neeson</td>\n",
              "      <td>Vera Farmiga</td>\n",
              "      <td>Action Thriller</td>\n",
              "      <td>The Commuter</td>\n",
              "    </tr>\n",
              "  </tbody>\n",
              "</table>\n",
              "</div>"
            ],
            "text/plain": [
              "         director_name  ...                    Title\n",
              "0        Adam Robitel   ...  Insidious  The Last Key\n",
              "1    Lauren Wolkstein   ...         The Strange Ones\n",
              "2          Simon West   ...                 Stratton\n",
              "3    Warwick Thornton   ...            Sweet Country\n",
              "4  Jaume Collet-Serra   ...             The Commuter\n",
              "\n",
              "[5 rows x 6 columns]"
            ]
          },
          "metadata": {
            "tags": []
          },
          "execution_count": 57
        }
      ]
    },
    {
      "cell_type": "code",
      "metadata": {
        "colab": {
          "base_uri": "https://localhost:8080/"
        },
        "id": "imRePwYUkkXu",
        "outputId": "183a507a-bd56-4e8c-a35c-8d597c98398b"
      },
      "source": [
        "df.isna().sum()"
      ],
      "execution_count": 58,
      "outputs": [
        {
          "output_type": "execute_result",
          "data": {
            "text/plain": [
              "director_name     0\n",
              "actor_1_name      8\n",
              "actor_2_name     12\n",
              "actor_3_name     30\n",
              "genres            3\n",
              "Title             0\n",
              "dtype: int64"
            ]
          },
          "metadata": {
            "tags": []
          },
          "execution_count": 58
        }
      ]
    },
    {
      "cell_type": "code",
      "metadata": {
        "id": "krDk4pBqlgHi"
      },
      "source": [
        "df = df.dropna(how='any')"
      ],
      "execution_count": 59,
      "outputs": []
    },
    {
      "cell_type": "code",
      "metadata": {
        "colab": {
          "base_uri": "https://localhost:8080/"
        },
        "id": "LtfCFKNNlmYD",
        "outputId": "a3831a7f-f606-4ac4-d668-577e14c7a057"
      },
      "source": [
        "df.isna().sum()"
      ],
      "execution_count": 60,
      "outputs": [
        {
          "output_type": "execute_result",
          "data": {
            "text/plain": [
              "director_name    0\n",
              "actor_1_name     0\n",
              "actor_2_name     0\n",
              "actor_3_name     0\n",
              "genres           0\n",
              "Title            0\n",
              "dtype: int64"
            ]
          },
          "metadata": {
            "tags": []
          },
          "execution_count": 60
        }
      ]
    },
    {
      "cell_type": "code",
      "metadata": {
        "colab": {
          "base_uri": "https://localhost:8080/",
          "height": 195
        },
        "id": "A7xjLLWvloi6",
        "outputId": "f127ba1c-7ffd-446d-e72d-ab81ffe3446e"
      },
      "source": [
        "df.head()"
      ],
      "execution_count": 61,
      "outputs": [
        {
          "output_type": "execute_result",
          "data": {
            "text/html": [
              "<div>\n",
              "<style scoped>\n",
              "    .dataframe tbody tr th:only-of-type {\n",
              "        vertical-align: middle;\n",
              "    }\n",
              "\n",
              "    .dataframe tbody tr th {\n",
              "        vertical-align: top;\n",
              "    }\n",
              "\n",
              "    .dataframe thead th {\n",
              "        text-align: right;\n",
              "    }\n",
              "</style>\n",
              "<table border=\"1\" class=\"dataframe\">\n",
              "  <thead>\n",
              "    <tr style=\"text-align: right;\">\n",
              "      <th></th>\n",
              "      <th>director_name</th>\n",
              "      <th>actor_1_name</th>\n",
              "      <th>actor_2_name</th>\n",
              "      <th>actor_3_name</th>\n",
              "      <th>genres</th>\n",
              "      <th>Title</th>\n",
              "    </tr>\n",
              "  </thead>\n",
              "  <tbody>\n",
              "    <tr>\n",
              "      <th>0</th>\n",
              "      <td>Adam Robitel</td>\n",
              "      <td>Lin Shaye</td>\n",
              "      <td>Angus Sampson</td>\n",
              "      <td>Leigh Whannell</td>\n",
              "      <td>Mystery Horror Thriller</td>\n",
              "      <td>Insidious  The Last Key</td>\n",
              "    </tr>\n",
              "    <tr>\n",
              "      <th>1</th>\n",
              "      <td>Lauren Wolkstein</td>\n",
              "      <td>Alex Pettyfer</td>\n",
              "      <td>James Freedson-Jackson</td>\n",
              "      <td>Emily Althaus</td>\n",
              "      <td>Thriller Drama</td>\n",
              "      <td>The Strange Ones</td>\n",
              "    </tr>\n",
              "    <tr>\n",
              "      <th>2</th>\n",
              "      <td>Simon West</td>\n",
              "      <td>Warren Davis II</td>\n",
              "      <td>Dominic Cooper</td>\n",
              "      <td>Austin Stowell</td>\n",
              "      <td>Action Thriller</td>\n",
              "      <td>Stratton</td>\n",
              "    </tr>\n",
              "    <tr>\n",
              "      <th>3</th>\n",
              "      <td>Warwick Thornton</td>\n",
              "      <td>Steven McGregor</td>\n",
              "      <td>Bryan Brown</td>\n",
              "      <td>Sam Neill</td>\n",
              "      <td>Drama History Western</td>\n",
              "      <td>Sweet Country</td>\n",
              "    </tr>\n",
              "    <tr>\n",
              "      <th>4</th>\n",
              "      <td>Jaume Collet-Serra</td>\n",
              "      <td>Philip de Blasi</td>\n",
              "      <td>Liam Neeson</td>\n",
              "      <td>Vera Farmiga</td>\n",
              "      <td>Action Thriller</td>\n",
              "      <td>The Commuter</td>\n",
              "    </tr>\n",
              "  </tbody>\n",
              "</table>\n",
              "</div>"
            ],
            "text/plain": [
              "         director_name  ...                    Title\n",
              "0        Adam Robitel   ...  Insidious  The Last Key\n",
              "1    Lauren Wolkstein   ...         The Strange Ones\n",
              "2          Simon West   ...                 Stratton\n",
              "3    Warwick Thornton   ...            Sweet Country\n",
              "4  Jaume Collet-Serra   ...             The Commuter\n",
              "\n",
              "[5 rows x 6 columns]"
            ]
          },
          "metadata": {
            "tags": []
          },
          "execution_count": 61
        }
      ]
    },
    {
      "cell_type": "code",
      "metadata": {
        "colab": {
          "base_uri": "https://localhost:8080/"
        },
        "id": "QfOgIzNzlqJo",
        "outputId": "d5431c22-73f1-4150-cbb0-74a199574fb4"
      },
      "source": [
        "df.shape"
      ],
      "execution_count": 62,
      "outputs": [
        {
          "output_type": "execute_result",
          "data": {
            "text/plain": [
              "(235, 6)"
            ]
          },
          "metadata": {
            "tags": []
          },
          "execution_count": 62
        }
      ]
    },
    {
      "cell_type": "code",
      "metadata": {
        "id": "cryYiWW0l3Us"
      },
      "source": [
        "df.to_csv('new_data_part3.csv',index=False)"
      ],
      "execution_count": 63,
      "outputs": []
    },
    {
      "cell_type": "code",
      "metadata": {
        "id": "W7FVE8_TmU4t"
      },
      "source": [
        ""
      ],
      "execution_count": null,
      "outputs": []
    }
  ]
}